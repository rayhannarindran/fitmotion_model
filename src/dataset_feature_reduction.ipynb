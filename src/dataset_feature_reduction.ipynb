{
 "cells": [
  {
   "cell_type": "code",
   "execution_count": 5,
   "metadata": {},
   "outputs": [],
   "source": [
    "import os\n",
    "import pandas as pd"
   ]
  },
  {
   "cell_type": "code",
   "execution_count": 10,
   "metadata": {},
   "outputs": [],
   "source": [
    "data_source = 'html' # android or html \n",
    "if 'html':\n",
    "    device = 'iphone'"
   ]
  },
  {
   "cell_type": "code",
   "execution_count": 11,
   "metadata": {},
   "outputs": [
    {
     "data": {
      "text/plain": [
       "['sit']"
      ]
     },
     "execution_count": 11,
     "metadata": {},
     "output_type": "execute_result"
    }
   ],
   "source": [
    "if 'html':\n",
    "    dataset_name = 'html_data'\n",
    "    dataset_path = '../data/' + dataset_name + '/' + device + '/'\n",
    "    paths = os.listdir(dataset_path)\n",
    "else:\n",
    "    dataset_name = 'android_data_latest'\n",
    "    dataset_path = '../data/' + dataset_name + '/'\n",
    "    paths = os.listdir(dataset_path)\n",
    "    paths.pop(paths.index(\"data_subjects_info.csv\")) if \"data_subjects_info.csv\" in paths else None\n",
    "paths"
   ]
  },
  {
   "cell_type": "code",
   "execution_count": 18,
   "metadata": {},
   "outputs": [
    {
     "name": "stdout",
     "output_type": "stream",
     "text": [
      "../data/html_data_reduced/iphone/\n"
     ]
    }
   ],
   "source": [
    "# create new folder with data path\n",
    "dataset_reduced = '../data/' + dataset_name + '_reduced/' \n",
    "if 'html':\n",
    "    dataset_reduced = dataset_reduced + device + '/'\n",
    "print(dataset_reduced)\n",
    "\n",
    "for subset in paths:\n",
    "    try:\n",
    "        os.mkdir(dataset_reduced + subset)\n",
    "    except:\n",
    "        pass"
   ]
  },
  {
   "cell_type": "code",
   "execution_count": 20,
   "metadata": {},
   "outputs": [],
   "source": [
    "for subset in paths:\n",
    "    data_paths = os.listdir(dataset_path + subset)\n",
    "    for index, data in enumerate(data_paths):\n",
    "        data_url = dataset_path + subset + '/' + data\n",
    "\n",
    "        if dataset_name == 'dataset':\n",
    "            df = pd.read_csv(data_url)\n",
    "            df.pop('Unnamed: 0')\n",
    "            df.pop('attitude.roll')\n",
    "            df.pop('attitude.pitch')\n",
    "            df.pop('attitude.yaw')\n",
    "            df.pop('rotationRate.x')\n",
    "            df.pop('rotationRate.y')\n",
    "            df.pop('rotationRate.z')\n",
    "        \n",
    "        if dataset_name == 'android_data' or dataset_name == 'android_data_latest':\n",
    "            df = pd.read_csv(data_url)\n",
    "            df.pop('id') if 'id' in df.columns else None\n",
    "            df.pop('Attitude Roll') if 'Attitude Roll' in df.columns else None\n",
    "            df.pop('Attitude Pitch') if 'Attitude Pitch' in df.columns else None\n",
    "            df.pop('Attitude Azimuth') if 'Attitude Azimuth' in df.columns else None\n",
    "            df.pop('Rotation Rate X') if 'Rotation Rate X' in df.columns else None\n",
    "            df.pop('Rotation Rate Y') if 'Rotation Rate Y' in df.columns else None\n",
    "            df.pop('Rotation Rate Z') if 'Rotation Rate Z' in df.columns else None\n",
    "\n",
    "        if dataset_name == 'html_data':\n",
    "            df = pd.read_csv(data_url)\n",
    "            df.pop('Timestamp') if 'Timestamp' in df.columns else None\n",
    "            df.pop('Attitude Roll') if 'Attitude Roll' in df.columns else None\n",
    "            df.pop('Attitude Pitch') if 'Attitude Pitch' in df.columns else None\n",
    "            df.pop('Attitude Azimuth') if 'Attitude Azimuth' in df.columns else None\n",
    "            df.pop('Rotation Rate X') if 'Rotation Rate X' in df.columns else None\n",
    "            df.pop('Rotation Rate Y') if 'Rotation Rate Y' in df.columns else None\n",
    "            df.pop('Rotation Rate Z') if 'Rotation Rate Z' in df.columns else None\n",
    "        \n",
    "        df.to_csv(dataset_reduced + subset + '/' + data)"
   ]
  }
 ],
 "metadata": {
  "kernelspec": {
   "display_name": "tf-testing",
   "language": "python",
   "name": "python3"
  },
  "language_info": {
   "codemirror_mode": {
    "name": "ipython",
    "version": 3
   },
   "file_extension": ".py",
   "mimetype": "text/x-python",
   "name": "python",
   "nbconvert_exporter": "python",
   "pygments_lexer": "ipython3",
   "version": "3.1.-1"
  }
 },
 "nbformat": 4,
 "nbformat_minor": 2
}
