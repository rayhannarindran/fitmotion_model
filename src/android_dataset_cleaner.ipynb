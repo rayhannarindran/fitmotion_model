{
 "cells": [
  {
   "cell_type": "code",
   "execution_count": 3,
   "metadata": {},
   "outputs": [],
   "source": [
    "import pandas as pd\n",
    "import os"
   ]
  },
  {
   "cell_type": "code",
   "execution_count": 6,
   "metadata": {},
   "outputs": [],
   "source": [
    "dirpath = '../data/android_data_latest'\n",
    "specific_subdir = True\n",
    "sub_spec = 'dws'\n",
    "\n",
    "subdirs = os.listdir(dirpath)\n",
    "\n",
    "if specific_subdir:\n",
    "    for file in os.listdir(dirpath + '/' + sub_spec):\n",
    "        if file.endswith('.csv'):\n",
    "            df = pd.read_csv(dirpath + '/' + sub_spec + '/' + file, sep=';')\n",
    "            # if Acceleration Z is not the last column, move it to the last column\n",
    "            if df.columns[-1] != 'User Acceleration Z':\n",
    "                df = df[[c for c in df if c not in ['User Acceleration Z']] + ['User Acceleration Z']]\n",
    "\n",
    "            # remove rows with values of 0\n",
    "            df = df[(df.T != 0).all()]\n",
    "\n",
    "            # restart id from 1\n",
    "            df['id'] = range(1, len(df) + 1)\n",
    "\n",
    "            df.to_csv(dirpath + '/' + sub_spec + '/' + file, sep=',', index=False)\n",
    "else:\n",
    "    for sub in subdirs:\n",
    "        for file in os.listdir(dirpath + '/' + sub):\n",
    "            if file.endswith('.csv'):\n",
    "                df = pd.read_csv(dirpath + '/' + sub + '/' + file, sep=';')\n",
    "                # if Acceleration Z is not the last column, move it to the last column\n",
    "                if df.columns[-1] != 'User Acceleration Z':\n",
    "                    df = df[[c for c in df if c not in ['User Acceleration Z']] + ['User Acceleration Z']]\n",
    "\n",
    "                # remove rows with values of 0\n",
    "                df = df[(df.T != 0).all()]\n",
    "\n",
    "                # restart id from 1\n",
    "                df['id'] = range(1, len(df) + 1)\n",
    "\n",
    "                df.to_csv(writepath + '/' + sub + '/' + file, sep=',', index=False)"
   ]
  }
 ],
 "metadata": {
  "kernelspec": {
   "display_name": "tf_testing",
   "language": "python",
   "name": "python3"
  },
  "language_info": {
   "codemirror_mode": {
    "name": "ipython",
    "version": 3
   },
   "file_extension": ".py",
   "mimetype": "text/x-python",
   "name": "python",
   "nbconvert_exporter": "python",
   "pygments_lexer": "ipython3",
   "version": "3.1.-1"
  }
 },
 "nbformat": 4,
 "nbformat_minor": 2
}
